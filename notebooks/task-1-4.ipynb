{
 "cells": [
  {
   "cell_type": "markdown",
   "id": "43cd4555",
   "metadata": {},
   "source": [
    "# RFM Analysis"
   ]
  },
  {
   "cell_type": "code",
   "execution_count": null,
   "id": "e358c911",
   "metadata": {},
   "outputs": [],
   "source": [
    "import pandas as pd\n",
    "import matplotlib.pyplot as plt\n",
    "\n",
    "df = pd.read_csv('../data/exam/processed/merged_data_with_ratings.csv')\n",
    "display(df.head())"
   ]
  },
  {
   "cell_type": "code",
   "execution_count": null,
   "id": "1826d552",
   "metadata": {},
   "outputs": [],
   "source": [
    "# Perform RFM analysis\n",
    "def perform_rfm_analysis(df):\n",
    "    # Use the most recent date in the dataset as the reference date\n",
    "    max_date = df['DateTime'].max()\n",
    "    \n",
    "    # Calculate RFM metrics\n",
    "    rfm = df.groupby('CustomerID').agg({\n",
    "        'DateTime': lambda x: (max_date - x.max()).total_seconds() / (3600*24),  # Recency in days\n",
    "        'Product': 'count',  # Frequency\n",
    "        'StoreID': lambda x: len(x.unique())  # Monetary (using number of stores as proxy)\n",
    "    }).rename(columns={\n",
    "        'DateTime': 'Recency',\n",
    "        'Product': 'Frequency',\n",
    "        'StoreID': 'Monetary'\n",
    "    })\n",
    "    \n",
    "    # Create RFM segments with error handling\n",
    "    try:\n",
    "        rfm['R_Quartile'] = pd.qcut(rfm['Recency'], 4, labels=range(4, 0, -1), duplicates='drop')\n",
    "    except ValueError:\n",
    "        # If qcut fails, use simple ranking\n",
    "        rfm['R_Quartile'] = pd.cut(rfm['Recency'], 4, labels=range(4, 0, -1))\n",
    "    \n",
    "    try:\n",
    "        rfm['F_Quartile'] = pd.qcut(rfm['Frequency'], 4, labels=range(1, 5), duplicates='drop')\n",
    "    except ValueError:\n",
    "        rfm['F_Quartile'] = pd.cut(rfm['Frequency'], 4, labels=range(1, 5))\n",
    "    \n",
    "    try:\n",
    "        rfm['M_Quartile'] = pd.qcut(rfm['Monetary'], 4, labels=range(1, 5), duplicates='drop')\n",
    "    except ValueError:\n",
    "        rfm['M_Quartile'] = pd.cut(rfm['Monetary'], 4, labels=range(1, 5))\n",
    "    \n",
    "    # Combine RFM scores\n",
    "    rfm['RFM_Score'] = rfm['R_Quartile'].astype(str) + rfm['F_Quartile'].astype(str) + rfm['M_Quartile'].astype(str)\n",
    "    \n",
    "    # Define customer segments\n",
    "    segment_map = {\n",
    "        r'[4][4-5][4-5]': 'Champions',\n",
    "        r'[3][3-5][3-5]': 'Loyal Customers',\n",
    "        r'[1-2][4-5][4-5]': 'Potential Loyalists',\n",
    "        r'[1-2][3][2-3]': 'New Customers',\n",
    "        r'[1][1-2][1-2]': 'At Risk'\n",
    "    }\n",
    "    \n",
    "    rfm['Segment'] = 'Other'\n",
    "    for pattern, segment in segment_map.items():\n",
    "        rfm.loc[rfm['RFM_Score'].str.contains(pattern), 'Segment'] = segment\n",
    "    \n",
    "    return rfm\n",
    "\n",
    "# Perform RFM analysis\n",
    "rfm_analysis = perform_rfm_analysis(exploded_df)\n",
    "print(\"RFM Customer Segmentation:\")\n",
    "print(rfm_analysis.head())\n",
    "\n",
    "# Visualize customer segments\n",
    "plt.figure(figsize=(10, 6))\n",
    "segment_counts = rfm_analysis['Segment'].value_counts()\n",
    "sns.barplot(x=segment_counts.index, y=segment_counts.values)\n",
    "plt.title('Customer Segments by RFM Analysis')\n",
    "plt.xlabel('Segment')\n",
    "plt.ylabel('Number of Customers')\n",
    "plt.xticks(rotation=45)\n",
    "plt.tight_layout()\n",
    "plt.show()"
   ]
  }
 ],
 "metadata": {
  "kernelspec": {
   "display_name": "Python 3",
   "language": "python",
   "name": "python3"
  },
  "language_info": {
   "name": "python",
   "version": "3.12.7"
  }
 },
 "nbformat": 4,
 "nbformat_minor": 5
}
