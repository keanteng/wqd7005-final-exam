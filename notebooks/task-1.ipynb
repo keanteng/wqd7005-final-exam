{
 "cells": [
  {
   "cell_type": "markdown",
   "id": "9efa0353",
   "metadata": {},
   "source": [
    "# Data Generation"
   ]
  },
  {
   "cell_type": "code",
   "execution_count": 1,
   "id": "2ab1b27f",
   "metadata": {},
   "outputs": [],
   "source": [
    "# configure api\n",
    "from dotenv import load_dotenv\n",
    "import os\n",
    "\n",
    "load_dotenv()\n",
    "gemini_api_key = os.getenv(\"GEMINI_API_KEY\")"
   ]
  },
  {
   "cell_type": "code",
   "execution_count": 2,
   "id": "ebbd1fa0",
   "metadata": {},
   "outputs": [],
   "source": [
    "from google import genai\n",
    "from google.genai import types\n",
    "\n",
    "client = genai.Client(api_key=gemini_api_key)\n",
    "\n",
    "model = [\n",
    "    \"gemini-2.5-flash-preview-04-17\"\n",
    "]"
   ]
  },
  {
   "cell_type": "code",
   "execution_count": 4,
   "id": "84c2aee7",
   "metadata": {},
   "outputs": [
    {
     "name": "stdout",
     "output_type": "stream",
     "text": [
      "You should generate dataset of 30 random customer based on the provided instruction to analysis their behavior and predict churn in CSV format.\n",
      "\n",
      "Below shows the data schema description and you should try to have a balance of deteriorated and non-deteriorated patients.\n",
      "\n",
      "Data Schema:\n",
      "CustomerID: Unique identifier for each customer\n",
      "Age: Age of the customer\n",
      "Gender: Gender of the customer\n",
      "Location: A random location\n",
      "MembershipLevel: The level of membership (e.g., Bronze, Silver, Gold, Platinum)\n",
      "TotalPurchases: Total number of purchases made by the customer\n",
      "TotalSpent: Total amount spent by the customer\n",
      "FavoriteCategory: Favorite product category of the customer\n",
      "LastPurchaseDate: Date of the last purchase\n",
      "WebsiteClickRate: Click-through rate on the website\n",
      "TimeSpentOnSite: Average time spent on the site per visit\n",
      "SocialMediaEngagement: Engagement level on social media\n",
      "AdClickHistory: History of ad clicks\n",
      "GeneratedReview: Customer review generated based on their experience\n",
      "CustomerSentimentScore: Sentiment score of the customer review\n",
      "PersonaTag: A tag representing the customer's persona (e.g., Loyal, Bargain Hunter, Impulsive Buyer)\n",
      "Churn: Numeric number representing if the customer has churned (1/0)\n"
     ]
    }
   ],
   "source": [
    "# extract the prompt in `Prompt Engineering.txt`\n",
    "with open(\"../prompts/sample.txt\", \"r\") as file:\n",
    "    original_prompt = file.read()\n",
    "\n",
    "print(original_prompt)"
   ]
  },
  {
   "cell_type": "code",
   "execution_count": null,
   "id": "0e97a4f2",
   "metadata": {},
   "outputs": [
    {
     "name": "stdout",
     "output_type": "stream",
     "text": [
      "Iteration 1 of 40\n",
      "Waiting for 1 minute before the next iteration...\n",
      "Iteration 2 of 40\n",
      "Waiting for 1 minute before the next iteration...\n",
      "Iteration 3 of 40\n",
      "Waiting for 1 minute before the next iteration...\n",
      "Iteration 4 of 40\n",
      "Waiting for 1 minute before the next iteration...\n",
      "Iteration 5 of 40\n",
      "Waiting for 1 minute before the next iteration...\n",
      "Iteration 6 of 40\n",
      "Waiting for 1 minute before the next iteration...\n",
      "Iteration 7 of 40\n",
      "Waiting for 1 minute before the next iteration...\n",
      "Iteration 8 of 40\n",
      "Waiting for 1 minute before the next iteration...\n",
      "Iteration 9 of 40\n",
      "Waiting for 1 minute before the next iteration...\n",
      "Iteration 10 of 40\n",
      "Waiting for 1 minute before the next iteration...\n",
      "Iteration 11 of 40\n",
      "Waiting for 1 minute before the next iteration...\n",
      "Iteration 12 of 40\n",
      "Waiting for 1 minute before the next iteration...\n",
      "Iteration 13 of 40\n",
      "Waiting for 1 minute before the next iteration...\n",
      "Iteration 14 of 40\n",
      "Waiting for 1 minute before the next iteration...\n",
      "Iteration 15 of 40\n",
      "Waiting for 1 minute before the next iteration...\n",
      "Iteration 16 of 40\n",
      "Waiting for 1 minute before the next iteration...\n",
      "Iteration 17 of 40\n",
      "Waiting for 1 minute before the next iteration...\n",
      "Iteration 18 of 40\n",
      "Waiting for 1 minute before the next iteration...\n",
      "Iteration 19 of 40\n",
      "Waiting for 1 minute before the next iteration...\n",
      "Iteration 20 of 40\n",
      "Waiting for 1 minute before the next iteration...\n",
      "Iteration 21 of 40\n",
      "Waiting for 1 minute before the next iteration...\n",
      "Iteration 22 of 40\n",
      "Waiting for 1 minute before the next iteration...\n",
      "Iteration 23 of 40\n",
      "Waiting for 1 minute before the next iteration...\n",
      "Iteration 24 of 40\n",
      "Waiting for 1 minute before the next iteration...\n",
      "Iteration 25 of 40\n",
      "Waiting for 1 minute before the next iteration...\n",
      "Iteration 26 of 40\n",
      "Waiting for 1 minute before the next iteration...\n",
      "Iteration 27 of 40\n",
      "Waiting for 1 minute before the next iteration...\n",
      "Iteration 28 of 40\n",
      "Waiting for 1 minute before the next iteration...\n",
      "Iteration 29 of 40\n",
      "Waiting for 1 minute before the next iteration...\n",
      "Iteration 30 of 40\n",
      "Waiting for 1 minute before the next iteration...\n"
     ]
    }
   ],
   "source": [
    "# loop each prompt with update patient id to the llm\n",
    "# and get the response and save it as a json file as data/patient_id.json\n",
    "# the patient_id is the patient id in the prompt\n",
    "import time  # Import the time module for delay\n",
    "import uuid\n",
    "\n",
    "history = []\n",
    "\n",
    "# Loop to repeat the process 50 times\n",
    "for iteration in range(30):\n",
    "    print(f\"Iteration {iteration + 1} of 40\")\n",
    "\n",
    "    # Calculate the start and end indices for the current batch\n",
    "    start_index = iteration * 10\n",
    "    end_index = start_index + 10\n",
    "\n",
    "    # Always start with the original prompt and add current history\n",
    "    # This way we're not continuously appending to the prompt\n",
    "    prompt = f\"Unique session ID: {uuid.uuid4()} \\n\\n{original_prompt}\"\n",
    "\n",
    "    # Get the response from the LLM\n",
    "    response = client.models.generate_content(model=model[0], contents=prompt)\n",
    "\n",
    "    # Update the history with the current response\n",
    "    history.append(response)\n",
    "\n",
    "    # Save the response as a JSON file\n",
    "    with open(f\"../data/exam/run_{iteration}.csv\", \"w\") as file:\n",
    "        file.write(response.text)\n",
    "\n",
    "    # Wait for one minute before the next iteration\n",
    "    if iteration < 49:  # Avoid waiting after the last iteration\n",
    "        print(\"Waiting for 1 minute before the next iteration...\")\n",
    "        if iteration % 5 == 0:\n",
    "            pass\n",
    "        else:\n",
    "            time.sleep(60)\n",
    "\n",
    "%echo \"All iterations completed. Check the data/raw directory for the output files.\""
   ]
  }
 ],
 "metadata": {
  "kernelspec": {
   "display_name": "Python 3",
   "language": "python",
   "name": "python3"
  },
  "language_info": {
   "codemirror_mode": {
    "name": "ipython",
    "version": 3
   },
   "file_extension": ".py",
   "mimetype": "text/x-python",
   "name": "python",
   "nbconvert_exporter": "python",
   "pygments_lexer": "ipython3",
   "version": "3.12.7"
  }
 },
 "nbformat": 4,
 "nbformat_minor": 5
}
