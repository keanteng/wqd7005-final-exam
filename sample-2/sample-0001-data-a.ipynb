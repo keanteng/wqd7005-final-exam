{
 "cells": [
  {
   "cell_type": "markdown",
   "id": "9efa0353",
   "metadata": {},
   "source": [
    "# Data Generation"
   ]
  },
  {
   "cell_type": "code",
   "execution_count": null,
   "id": "2ab1b27f",
   "metadata": {},
   "outputs": [],
   "source": [
    "# configure api\n",
    "from dotenv import load_dotenv\n",
    "import os\n",
    "\n",
    "load_dotenv()\n",
    "gemini_api_key = os.getenv(\"GEMINI_API_KEY\")"
   ]
  },
  {
   "cell_type": "code",
   "execution_count": null,
   "id": "ebbd1fa0",
   "metadata": {},
   "outputs": [],
   "source": [
    "from google import genai\n",
    "from google.genai import types\n",
    "\n",
    "client = genai.Client(api_key=gemini_api_key)\n",
    "\n",
    "model = [\n",
    "    \"gemini-2.5-flash-preview-04-17\"\n",
    "]\n",
    "\n",
    "generate_content_config = types.GenerateContentConfig(\n",
    "    response_mime_type=\"application/json\",\n",
    ")"
   ]
  },
  {
   "cell_type": "code",
   "execution_count": null,
   "id": "84c2aee7",
   "metadata": {},
   "outputs": [],
   "source": [
    "# extract the prompt in `Prompt Engineering.txt`\n",
    "with open(\"prompts/sample.txt\", \"r\") as file:\n",
    "    original_prompt = file.read()\n",
    "\n",
    "print(original_prompt)"
   ]
  },
  {
   "cell_type": "code",
   "execution_count": null,
   "id": "0e97a4f2",
   "metadata": {},
   "outputs": [],
   "source": [
    "# loop each prompt with update patient id to the llm\n",
    "# and get the response and save it as a json file as data/patient_id.json\n",
    "# the patient_id is the patient id in the prompt\n",
    "import time  # Import the time module for delay\n",
    "import uuid\n",
    "\n",
    "history = []\n",
    "\n",
    "# Loop to repeat the process 50 times\n",
    "for iteration in range(40):\n",
    "    print(f\"Iteration {iteration + 1} of 40\")\n",
    "\n",
    "    # Calculate the start and end indices for the current batch\n",
    "    start_index = iteration * 10\n",
    "    end_index = start_index + 10\n",
    "\n",
    "    # Always start with the original prompt and add current history\n",
    "    # This way we're not continuously appending to the prompt\n",
    "    prompt = f\"Unique session ID: {uuid.uuid4()} \\n\\n{original_prompt}\"\n",
    "\n",
    "    # Get the response from the LLM\n",
    "    response = client.models.generate_content(model=model[0], contents=prompt, config=generate_content_config)\n",
    "\n",
    "    # Update the history with the current response\n",
    "    history.append(response)\n",
    "\n",
    "    # Save the response as a JSON file\n",
    "    with open(f\"data/raw/run_{iteration}.json\", \"w\") as file:\n",
    "        file.write(response.text)\n",
    "\n",
    "    # Wait for one minute before the next iteration\n",
    "    if iteration < 49:  # Avoid waiting after the last iteration\n",
    "        print(\"Waiting for 1 minute before the next iteration...\")\n",
    "        if iteration % 5 == 0:\n",
    "            pass\n",
    "        else:\n",
    "            time.sleep(60)\n",
    "\n",
    "%echo \"All iterations completed. Check the data/raw directory for the output files.\""
   ]
  }
 ],
 "metadata": {
  "kernelspec": {
   "display_name": "Python 3",
   "language": "python",
   "name": "python3"
  },
  "language_info": {
   "codemirror_mode": {
    "name": "ipython",
    "version": 3
   },
   "file_extension": ".py",
   "mimetype": "text/x-python",
   "name": "python",
   "nbconvert_exporter": "python",
   "pygments_lexer": "ipython3",
   "version": "3.12.7"
  }
 },
 "nbformat": 4,
 "nbformat_minor": 5
}
