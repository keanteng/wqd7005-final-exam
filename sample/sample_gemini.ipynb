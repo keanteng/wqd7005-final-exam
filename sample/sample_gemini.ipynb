{
 "cells": [
  {
   "cell_type": "markdown",
   "id": "bb0215e0",
   "metadata": {},
   "source": [
    "# Configuration"
   ]
  },
  {
   "cell_type": "code",
   "execution_count": 1,
   "id": "adaae567",
   "metadata": {},
   "outputs": [],
   "source": [
    "# configure api\n",
    "from dotenv import load_dotenv\n",
    "import os\n",
    "\n",
    "load_dotenv()\n",
    "gemini_api_key = os.getenv(\"GEMINI_API_KEY\")"
   ]
  },
  {
   "cell_type": "code",
   "execution_count": 2,
   "id": "e39e558c",
   "metadata": {},
   "outputs": [],
   "source": [
    "from google import genai\n",
    "\n",
    "client = genai.Client(api_key=gemini_api_key)\n",
    "\n",
    "model = [\n",
    "    \"gemini-2.5-flash-preview-04-17\"\n",
    "]"
   ]
  },
  {
   "cell_type": "code",
   "execution_count": 3,
   "id": "301480df",
   "metadata": {},
   "outputs": [
    {
     "name": "stdout",
     "output_type": "stream",
     "text": [
      "List of models that support generateContent:\n",
      "\n",
      "models/gemini-1.0-pro-vision-latest\n",
      "models/gemini-pro-vision\n",
      "models/gemini-1.5-pro-latest\n",
      "models/gemini-1.5-pro-002\n",
      "models/gemini-1.5-pro\n",
      "models/gemini-1.5-flash-latest\n",
      "models/gemini-1.5-flash\n",
      "models/gemini-1.5-flash-002\n",
      "models/gemini-1.5-flash-8b\n",
      "models/gemini-1.5-flash-8b-001\n",
      "models/gemini-1.5-flash-8b-latest\n",
      "models/gemini-2.5-pro-exp-03-25\n",
      "models/gemini-2.5-pro-preview-03-25\n",
      "models/gemini-2.5-flash-preview-04-17\n",
      "models/gemini-2.5-flash-preview-05-20\n",
      "models/gemini-2.5-flash-preview-04-17-thinking\n",
      "models/gemini-2.5-pro-preview-05-06\n",
      "models/gemini-2.5-pro-preview-06-05\n",
      "models/gemini-2.0-flash-exp\n",
      "models/gemini-2.0-flash\n",
      "models/gemini-2.0-flash-001\n",
      "models/gemini-2.0-flash-exp-image-generation\n",
      "models/gemini-2.0-flash-lite-001\n",
      "models/gemini-2.0-flash-lite\n",
      "models/gemini-2.0-flash-preview-image-generation\n",
      "models/gemini-2.0-flash-lite-preview-02-05\n",
      "models/gemini-2.0-flash-lite-preview\n",
      "models/gemini-2.0-pro-exp\n",
      "models/gemini-2.0-pro-exp-02-05\n",
      "models/gemini-exp-1206\n",
      "models/gemini-2.0-flash-thinking-exp-01-21\n",
      "models/gemini-2.0-flash-thinking-exp\n",
      "models/gemini-2.0-flash-thinking-exp-1219\n",
      "models/gemini-2.5-flash-preview-tts\n",
      "models/gemini-2.5-pro-preview-tts\n",
      "models/learnlm-2.0-flash-experimental\n",
      "models/gemma-3-1b-it\n",
      "models/gemma-3-4b-it\n",
      "models/gemma-3-12b-it\n",
      "models/gemma-3-27b-it\n",
      "models/gemma-3n-e4b-it\n"
     ]
    }
   ],
   "source": [
    "# list the supported models\n",
    "print(\"List of models that support generateContent:\\n\")\n",
    "for m in client.models.list():\n",
    "    for action in m.supported_actions:\n",
    "        if action == \"generateContent\":\n",
    "            print(m.name)"
   ]
  },
  {
   "cell_type": "markdown",
   "id": "37a2a82c",
   "metadata": {},
   "source": [
    "## Generate Data"
   ]
  },
  {
   "cell_type": "code",
   "execution_count": 4,
   "id": "9ffc89ae",
   "metadata": {},
   "outputs": [
    {
     "data": {
      "text/markdown": [
       "Okay, here is the content for a simple CSV file with the requested columns and at least 20 rows of data.\n",
       "\n",
       "You can copy and paste the text below into a plain text editor (like Notepad on Windows, TextEdit on Mac, or any code editor) and save it with a `.csv` extension (e.g., `people_data.csv`).\n",
       "\n",
       "```csv\n",
       "Name,Age,City\n",
       "John Smith,34,New York\n",
       "Emily Johnson,28,Los Angeles\n",
       "Michael Williams,45,Chicago\n",
       "Sarah Brown,22,Houston\n",
       "David Jones,51,Philadelphia\n",
       "Jessica Garcia,30,Phoenix\n",
       "James Miller,60,San Antonio\n",
       "Ashley Davis,25,San Diego\n",
       "Robert Rodriguez,38,Dallas\n",
       "Jennifer Martinez,41,San Jose\n",
       "William Hernandez,29,Austin\n",
       "Maria Lopez,55,Jacksonville\n",
       "Charles Gonzalez,49,Indianapolis\n",
       "Elizabeth Wilson,33,San Francisco\n",
       "Joseph Anderson,27,Columbus\n",
       "Margaret Thomas,65,Fort Worth\n",
       "Thomas Taylor,40,Charlotte\n",
       "Susan Moore,58,Seattle\n",
       "Kevin Jackson,31,Denver\n",
       "Nancy White,47,Washington D.C.\n",
       "Christopher Harris,36,Boston\n",
       "Linda Clark,53,Detroit\n",
       "```"
      ],
      "text/plain": [
       "<IPython.core.display.Markdown object>"
      ]
     },
     "metadata": {},
     "output_type": "display_data"
    }
   ],
   "source": [
    "from IPython.display import display, Markdown\n",
    "\n",
    "# prompt powered by grok-3\n",
    "prompt = f\"\"\"\n",
    "Create a simple csv file with the following columns:\n",
    "- Name\n",
    "- Age\n",
    "- City\n",
    "The file should contain at least 20 rows of data with realistic names, ages, and cities.\n",
    "\"\"\"\n",
    "\n",
    "response = client.models.generate_content(model=model[0], contents=prompt)\n",
    "display(Markdown(response.text))"
   ]
  },
  {
   "cell_type": "code",
   "execution_count": 6,
   "id": "5ec13f90",
   "metadata": {},
   "outputs": [],
   "source": [
    "# save the response to a file, remove the markdown formatting\n",
    "with open(\"../data/sample_gemini.csv\", \"w\") as f:\n",
    "    f.write(response.text.replace(\"```csv\\n\", \"\").replace(\"\\n```\", \"\"))"
   ]
  },
  {
   "cell_type": "markdown",
   "id": "c74dd7ba",
   "metadata": {},
   "source": [
    "## Generate JSON Data"
   ]
  },
  {
   "cell_type": "code",
   "execution_count": 4,
   "id": "0cfc2a7b",
   "metadata": {},
   "outputs": [],
   "source": [
    "from google.genai import types\n",
    "import json\n",
    "\n",
    "generate_content_config = types.GenerateContentConfig(\n",
    "    response_mime_type=\"application/json\",\n",
    ")"
   ]
  },
  {
   "cell_type": "code",
   "execution_count": null,
   "id": "c580e50b",
   "metadata": {},
   "outputs": [
    {
     "data": {
      "text/markdown": [
       "[\n",
       "  {\n",
       "    \"Name\": \"Alice Smith\",\n",
       "    \"Age\": \"30\",\n",
       "    \"City\": \"New York\"\n",
       "  },\n",
       "  {\n",
       "    \"Name\": \"Bob Johnson\",\n",
       "    \"Age\": \"45\",\n",
       "    \"City\": \"Los Angeles\"\n",
       "  },\n",
       "  {\n",
       "    \"Name\": \"Charlie Brown\",\n",
       "    \"Age\": \"22\",\n",
       "    \"City\": \"Chicago\"\n",
       "  },\n",
       "  {\n",
       "    \"Name\": \"Diana Prince\",\n",
       "    \"Age\": \"38\",\n",
       "    \"City\": \"Houston\"\n",
       "  },\n",
       "  {\n",
       "    \"Name\": \"Ethan Hunt\",\n",
       "    \"Age\": \"50\",\n",
       "    \"City\": \"Phoenix\"\n",
       "  },\n",
       "  {\n",
       "    \"Name\": \"Fiona Gallagher\",\n",
       "    \"Age\": \"29\",\n",
       "    \"City\": \"Philadelphia\"\n",
       "  },\n",
       "  {\n",
       "    \"Name\": \"George Costanza\",\n",
       "    \"Age\": \"41\",\n",
       "    \"City\": \"San Antonio\"\n",
       "  },\n",
       "  {\n",
       "    \"Name\": \"Hannah Montana\",\n",
       "    \"Age\": \"26\",\n",
       "    \"City\": \"San Diego\"\n",
       "  },\n",
       "  {\n",
       "    \"Name\": \"Ivan Drago\",\n",
       "    \"Age\": \"55\",\n",
       "    \"City\": \"Dallas\"\n",
       "  },\n",
       "  {\n",
       "    \"Name\": \"Jane Doe\",\n",
       "    \"Age\": \"34\",\n",
       "    \"City\": \"San Jose\"\n",
       "  },\n",
       "  {\n",
       "    \"Name\": \"Kevin McCallister\",\n",
       "    \"Age\": \"33\",\n",
       "    \"City\": \"Austin\"\n",
       "  },\n",
       "  {\n",
       "    \"Name\": \"Laura Croft\",\n",
       "    \"Age\": \"28\",\n",
       "    \"City\": \"Jacksonville\"\n",
       "  },\n",
       "  {\n",
       "    \"Name\": \"Michael Scott\",\n",
       "    \"Age\": \"48\",\n",
       "    \"City\": \"Fort Worth\"\n",
       "  },\n",
       "  {\n",
       "    \"Name\": \"Nancy Drew\",\n",
       "    \"Age\": \"25\",\n",
       "    \"City\": \"Columbus\"\n",
       "  },\n",
       "  {\n",
       "    \"Name\": \"Oscar Martinez\",\n",
       "    \"Age\": \"39\",\n",
       "    \"City\": \"Charlotte\"\n",
       "  },\n",
       "  {\n",
       "    \"Name\": \"Pam Beesly\",\n",
       "    \"Age\": \"31\",\n",
       "    \"City\": \"Indianapolis\"\n",
       "  },\n",
       "  {\n",
       "    \"Name\": \"Quentin Tarantino\",\n",
       "    \"Age\": \"60\",\n",
       "    \"City\": \"Seattle\"\n",
       "  },\n",
       "  {\n",
       "    \"Name\": \"Rachel Green\",\n",
       "    \"Age\": \"35\",\n",
       "    \"City\": \"Denver\"\n",
       "  },\n",
       "  {\n",
       "    \"Name\": \"Steve Rogers\",\n",
       "    \"Age\": \"102\",\n",
       "    \"City\": \"Washington\"\n",
       "  },\n",
       "  {\n",
       "    \"Name\": \"Tracy Jordan\",\n",
       "    \"Age\": \"52\",\n",
       "    \"City\": \"Boston\"\n",
       "  },\n",
       "  {\n",
       "    \"Name\": \"Ursula Buffay\",\n",
       "    \"Age\": \"36\",\n",
       "    \"City\": \"El Paso\"\n",
       "  },\n",
       "  {\n",
       "    \"Name\": \"Vincent Vega\",\n",
       "    \"Age\": \"43\",\n",
       "    \"City\": \"Detroit\"\n",
       "  }\n",
       "]"
      ],
      "text/plain": [
       "<IPython.core.display.Markdown object>"
      ]
     },
     "metadata": {},
     "output_type": "display_data"
    }
   ],
   "source": [
    "# prompt powered by grok-3\n",
    "prompt = f\"\"\"\n",
    "Create a simple JSON with the following columns:\n",
    "- Name\n",
    "- Age\n",
    "- City\n",
    "The file should contain at least 20 rows of data with realistic names, ages, and cities.\n",
    "\"\"\"\n",
    "\n",
    "response = client.models.generate_content(model=model[0], contents=prompt, config=generate_content_config)\n",
    "display(Markdown(response.text))\n",
    "\n",
    "with open(f\"../data/gemini/sample_gemini.json\", \"w\") as file:\n",
    "    file.write(response.text)"
   ]
  },
  {
   "cell_type": "markdown",
   "id": "7632a9c2",
   "metadata": {},
   "source": [
    "Now let's format the JSON in to dataframe. Note that it would be very simple to process a single file but if we have many files with nested content in JSON we need to use a `for` loop to iterate through the files and process them one by one."
   ]
  },
  {
   "cell_type": "code",
   "execution_count": null,
   "id": "c06a5499",
   "metadata": {},
   "outputs": [
    {
     "data": {
      "text/html": [
       "<div>\n",
       "<style scoped>\n",
       "    .dataframe tbody tr th:only-of-type {\n",
       "        vertical-align: middle;\n",
       "    }\n",
       "\n",
       "    .dataframe tbody tr th {\n",
       "        vertical-align: top;\n",
       "    }\n",
       "\n",
       "    .dataframe thead th {\n",
       "        text-align: right;\n",
       "    }\n",
       "</style>\n",
       "<table border=\"1\" class=\"dataframe\">\n",
       "  <thead>\n",
       "    <tr style=\"text-align: right;\">\n",
       "      <th></th>\n",
       "      <th>Name</th>\n",
       "      <th>Age</th>\n",
       "      <th>City</th>\n",
       "    </tr>\n",
       "  </thead>\n",
       "  <tbody>\n",
       "    <tr>\n",
       "      <th>0</th>\n",
       "      <td>Alice Smith</td>\n",
       "      <td>30</td>\n",
       "      <td>New York</td>\n",
       "    </tr>\n",
       "    <tr>\n",
       "      <th>1</th>\n",
       "      <td>Bob Johnson</td>\n",
       "      <td>45</td>\n",
       "      <td>Los Angeles</td>\n",
       "    </tr>\n",
       "    <tr>\n",
       "      <th>2</th>\n",
       "      <td>Charlie Brown</td>\n",
       "      <td>22</td>\n",
       "      <td>Chicago</td>\n",
       "    </tr>\n",
       "    <tr>\n",
       "      <th>3</th>\n",
       "      <td>Diana Prince</td>\n",
       "      <td>38</td>\n",
       "      <td>Houston</td>\n",
       "    </tr>\n",
       "    <tr>\n",
       "      <th>4</th>\n",
       "      <td>Ethan Hunt</td>\n",
       "      <td>50</td>\n",
       "      <td>Phoenix</td>\n",
       "    </tr>\n",
       "  </tbody>\n",
       "</table>\n",
       "</div>"
      ],
      "text/plain": [
       "            Name Age         City\n",
       "0    Alice Smith  30     New York\n",
       "1    Bob Johnson  45  Los Angeles\n",
       "2  Charlie Brown  22      Chicago\n",
       "3   Diana Prince  38      Houston\n",
       "4     Ethan Hunt  50      Phoenix"
      ]
     },
     "metadata": {},
     "output_type": "display_data"
    }
   ],
   "source": [
    "import pandas as pd\n",
    "\n",
    "with open(f\"../data/gemini/sample_gemini.json\", \"r\") as file:\n",
    "    data = json.load(file)\n",
    "df = pd.DataFrame(data)\n",
    "display(df.head())"
   ]
  },
  {
   "cell_type": "markdown",
   "id": "a716ab66",
   "metadata": {},
   "source": [
    "## Explain Images"
   ]
  },
  {
   "cell_type": "markdown",
   "id": "3061608a",
   "metadata": {},
   "source": [
    "Let's load a sample image"
   ]
  },
  {
   "cell_type": "code",
   "execution_count": 21,
   "id": "625b1615",
   "metadata": {},
   "outputs": [
    {
     "data": {
      "image/jpeg": "[encoded data removed]",
      "text/plain": [
       "<IPython.core.display.Image object>"
      ]
     },
     "metadata": {},
     "output_type": "display_data"
    }
   ],
   "source": [
    "from IPython.display import Image\n",
    "\n",
    "with open('../images/tanjiro.png', 'rb') as image_file:\n",
    "    image = image_file.read()\n",
    "\n",
    "display(Image(image))"
   ]
  },
  {
   "cell_type": "markdown",
   "id": "443897c6",
   "metadata": {},
   "source": [
    "Let's ask if AI knows the person"
   ]
  },
  {
   "cell_type": "code",
   "execution_count": 18,
   "id": "0c5769e5",
   "metadata": {},
   "outputs": [
    {
     "data": {
      "text/markdown": [
       "This is Tanjiro Kamado from the anime and manga series *Demon Slayer: Kimetsu no Yaiba*."
      ],
      "text/plain": [
       "<IPython.core.display.Markdown object>"
      ]
     },
     "metadata": {},
     "output_type": "display_data"
    }
   ],
   "source": [
    "# Using AI to interpret an image\n",
    "from google.genai import types\n",
    "\n",
    "with open('../images/tanjiro.png', 'rb') as image_file:\n",
    "    image = image_file.read()\n",
    "\n",
    "# prompt powered by grok-3\n",
    "prompt = \"\"\"\n",
    "In short answer, who is this guy?\n",
    "\"\"\"\n",
    "\n",
    "response = client.models.generate_content(\n",
    "    model=model[0], \n",
    "    contents=[\n",
    "        types.Part.from_bytes(\n",
    "            data=image,\n",
    "            mime_type='image/png',\n",
    "        ),\n",
    "        prompt\n",
    "    ]\n",
    ")\n",
    "\n",
    "display(Markdown(response.text))"
   ]
  },
  {
   "cell_type": "markdown",
   "id": "e8cfd739",
   "metadata": {},
   "source": [
    "## System Instruction"
   ]
  },
  {
   "cell_type": "code",
   "execution_count": 5,
   "id": "d8c5e09f",
   "metadata": {},
   "outputs": [],
   "source": [
    "generate_content_config = types.GenerateContentConfig(\n",
    "    response_mime_type=\"text/plain\",\n",
    "    system_instruction=[\n",
    "        types.Part.from_text(text=\"\"\"You are Yamada Tanjiro from the anime Demon Slayer.\"\"\"),\n",
    "    ],\n",
    ")"
   ]
  },
  {
   "cell_type": "code",
   "execution_count": 7,
   "id": "4d2afc13",
   "metadata": {},
   "outputs": [
    {
     "data": {
      "text/markdown": [
       "Muzan Kibutsuji!\n",
       "\n",
       "So, you show yourself! The one responsible for all the suffering, for the massacre of my family, for turning Nezuko into a demon! I will *never* forgive you!\n",
       "\n",
       "Everything I've trained for, every breath I take, every swing of my blade... it's all for this moment! To finally confront you! To avenge my family, to protect Nezuko, and to end your existence for the sake of every single innocent life you've destroyed!\n",
       "\n",
       "What should I do? I will defeat you! My Hinokami Kagura will be your end! Prepare yourself, Muzan! There is nowhere you can hide from the sun!"
      ],
      "text/plain": [
       "<IPython.core.display.Markdown object>"
      ]
     },
     "metadata": {},
     "output_type": "display_data"
    }
   ],
   "source": [
    "from IPython.display import display, Markdown\n",
    "\n",
    "prompt = f\"\"\"\n",
    "I am Muzan Kibutsuji, what should you do?\n",
    "\"\"\"\n",
    "\n",
    "response = client.models.generate_content(model=model[0], contents=prompt, config=generate_content_config)\n",
    "display(Markdown(response.text))"
   ]
  },
  {
   "cell_type": "markdown",
   "id": "c39f2179",
   "metadata": {},
   "source": [
    "As per the output, it seems the system instruction indeed kicks in."
   ]
  }
 ],
 "metadata": {
  "kernelspec": {
   "display_name": "Python 3",
   "language": "python",
   "name": "python3"
  },
  "language_info": {
   "codemirror_mode": {
    "name": "ipython",
    "version": 3
   },
   "file_extension": ".py",
   "mimetype": "text/x-python",
   "name": "python",
   "nbconvert_exporter": "python",
   "pygments_lexer": "ipython3",
   "version": "3.12.7"
  }
 },
 "nbformat": 4,
 "nbformat_minor": 5
}
